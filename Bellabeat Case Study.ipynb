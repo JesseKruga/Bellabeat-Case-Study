{
 "cells": [
  {
   "cell_type": "markdown",
   "id": "5f8c726c",
   "metadata": {},
   "source": [
    "# How can a wellness company play it smart?"
   ]
  },
  {
   "cell_type": "markdown",
   "id": "cc2812a4",
   "metadata": {},
   "source": [
    "### About the Project?\n",
    "Today I'm going to analyze data of Bellabeat, a high-tech manufacturer of health-focused products for women. I followed total six steps: Ask, Prepare, Process, Analyze, Share & Act in following analysis. I used Python to analyze data and spreadsheet program (Microsoft Excel) to visualize data.\n",
    "\n",
    "### About Bellabeat?\n",
    "Well, Urška Sršen and Sando Mur founded Bellabeat, a high-tech company that manufactures health-focused smart products. Sršen used her background as an artist to develop beautifully designed technology that informs and inspires women around the world. Collecting data on activity, sleep, stress, and reproductive health has allowed Bellabeat to empower women with knowledge about their own health and habits. Since it was founded in 2013, Bellabeat has grown rapidly and quickly positioned itself as a tech-driven wellness company for women.\n",
    "\n",
    "### Business Tasks\n",
    "I will try to answer these questions:\n",
    " - What are some trends in smart device usage?\n",
    " - How could these trends apply to Bellabeat customers?\n",
    " - How could these trends help influence Bellabeat marketing strategy"
   ]
  },
  {
   "cell_type": "markdown",
   "id": "c27f0dfb",
   "metadata": {},
   "source": [
    "<a id=\"0\"></a> <br>\n",
    " # Table of Contents  \n",
    "1. [Gathering the data](#1)     \n",
    "1. [ Accessing the data](#2) \n",
    "    1. [Observation](#3) \n",
    "1. [Data Cleaning](#4)      \n",
    "1. [Exploratory Data Analysis](#5)     \n",
    "    1. [Do users get off their beds quickly?](#6)     \n",
    "    1. [What Time of the Day are Users the most active?](#7)     \n",
    "    1. [What is the relationship between the calories and total steps?](#8)     \n",
    "    1. [Which day of the week are users the most active?](#9) \n",
    "    1. [ How do users spend their time?](#10)\n",
    "    1. [Which BMI class covers the most distance and steps?](#11)       \n",
    "1. [Insights for Marketing Strategy](#12)    \n",
    "1. [Conclusion](#13)\n",
    "    \n",
    "       "
   ]
  },
  {
   "cell_type": "markdown",
   "id": "1f064e3d",
   "metadata": {},
   "source": [
    "<a id='1'></a>\n",
    "## Gathering the data"
   ]
  },
  {
   "cell_type": "code",
   "execution_count": 90,
   "id": "bb418ba9",
   "metadata": {},
   "outputs": [],
   "source": [
    "# Loading the necessary packages\n",
    "import pandas as pd\n",
    "import numpy as np\n",
    "import matplotlib.pyplot as plt\n",
    "import seaborn as sb\n",
    "\n",
    "%matplotlib inline"
   ]
  },
  {
   "cell_type": "code",
   "execution_count": 91,
   "id": "258ecb9d",
   "metadata": {},
   "outputs": [],
   "source": [
    "# The required datasets\n",
    "dailyactivities = pd.read_csv('C:\\\\Users\\\\HP\\\\Downloads\\\\archive (1)\\\\dailyActivity_merged.csv')\n",
    "dailyintensity = pd.read_csv(\"C:\\\\Users\\\\HP\\\\Downloads\\\\archive (1)\\\\dailyIntensities_merged.csv\")\n",
    "dailycalories = pd.read_csv(\"C:\\\\Users\\\\HP\\\\Downloads\\\\archive (1)\\\\dailyCalories_merged.csv\")\n",
    "sleepday = pd.read_csv(\"C:\\\\Users\\\\HP\\\\Downloads\\\\archive (1)\\\\sleepDay_merged.csv\")\n",
    "weightlog = pd.read_csv(\"C:\\\\Users\\\\HP\\\\Downloads\\\\archive (1)\\\\weightLogInfo_merged.csv\")\n",
    "heartrates = pd.read_csv(\"C:\\\\Users\\\\HP\\\\Downloads\\\\archive (1)\\\\heartrate_seconds_merged.csv\")"
   ]
  },
  {
   "cell_type": "code",
   "execution_count": 92,
   "id": "5021eec8",
   "metadata": {},
   "outputs": [
    {
     "data": {
      "text/html": [
       "<div>\n",
       "<style scoped>\n",
       "    .dataframe tbody tr th:only-of-type {\n",
       "        vertical-align: middle;\n",
       "    }\n",
       "\n",
       "    .dataframe tbody tr th {\n",
       "        vertical-align: top;\n",
       "    }\n",
       "\n",
       "    .dataframe thead th {\n",
       "        text-align: right;\n",
       "    }\n",
       "</style>\n",
       "<table border=\"1\" class=\"dataframe\">\n",
       "  <thead>\n",
       "    <tr style=\"text-align: right;\">\n",
       "      <th></th>\n",
       "      <th>Id</th>\n",
       "      <th>Date</th>\n",
       "      <th>WeightKg</th>\n",
       "      <th>WeightPounds</th>\n",
       "      <th>Fat</th>\n",
       "      <th>BMI</th>\n",
       "      <th>IsManualReport</th>\n",
       "      <th>LogId</th>\n",
       "    </tr>\n",
       "  </thead>\n",
       "  <tbody>\n",
       "    <tr>\n",
       "      <th>0</th>\n",
       "      <td>1503960366</td>\n",
       "      <td>5/2/2016 11:59:59 PM</td>\n",
       "      <td>52.599998</td>\n",
       "      <td>115.963147</td>\n",
       "      <td>22.0</td>\n",
       "      <td>22.650000</td>\n",
       "      <td>True</td>\n",
       "      <td>1462233599000</td>\n",
       "    </tr>\n",
       "    <tr>\n",
       "      <th>1</th>\n",
       "      <td>1503960366</td>\n",
       "      <td>5/3/2016 11:59:59 PM</td>\n",
       "      <td>52.599998</td>\n",
       "      <td>115.963147</td>\n",
       "      <td>NaN</td>\n",
       "      <td>22.650000</td>\n",
       "      <td>True</td>\n",
       "      <td>1462319999000</td>\n",
       "    </tr>\n",
       "    <tr>\n",
       "      <th>2</th>\n",
       "      <td>1927972279</td>\n",
       "      <td>4/13/2016 1:08:52 AM</td>\n",
       "      <td>133.500000</td>\n",
       "      <td>294.317120</td>\n",
       "      <td>NaN</td>\n",
       "      <td>47.540001</td>\n",
       "      <td>False</td>\n",
       "      <td>1460509732000</td>\n",
       "    </tr>\n",
       "    <tr>\n",
       "      <th>3</th>\n",
       "      <td>2873212765</td>\n",
       "      <td>4/21/2016 11:59:59 PM</td>\n",
       "      <td>56.700001</td>\n",
       "      <td>125.002104</td>\n",
       "      <td>NaN</td>\n",
       "      <td>21.450001</td>\n",
       "      <td>True</td>\n",
       "      <td>1461283199000</td>\n",
       "    </tr>\n",
       "    <tr>\n",
       "      <th>4</th>\n",
       "      <td>2873212765</td>\n",
       "      <td>5/12/2016 11:59:59 PM</td>\n",
       "      <td>57.299999</td>\n",
       "      <td>126.324875</td>\n",
       "      <td>NaN</td>\n",
       "      <td>21.690001</td>\n",
       "      <td>True</td>\n",
       "      <td>1463097599000</td>\n",
       "    </tr>\n",
       "  </tbody>\n",
       "</table>\n",
       "</div>"
      ],
      "text/plain": [
       "           Id                   Date    WeightKg  WeightPounds   Fat  \\\n",
       "0  1503960366   5/2/2016 11:59:59 PM   52.599998    115.963147  22.0   \n",
       "1  1503960366   5/3/2016 11:59:59 PM   52.599998    115.963147   NaN   \n",
       "2  1927972279   4/13/2016 1:08:52 AM  133.500000    294.317120   NaN   \n",
       "3  2873212765  4/21/2016 11:59:59 PM   56.700001    125.002104   NaN   \n",
       "4  2873212765  5/12/2016 11:59:59 PM   57.299999    126.324875   NaN   \n",
       "\n",
       "         BMI  IsManualReport          LogId  \n",
       "0  22.650000            True  1462233599000  \n",
       "1  22.650000            True  1462319999000  \n",
       "2  47.540001           False  1460509732000  \n",
       "3  21.450001            True  1461283199000  \n",
       "4  21.690001            True  1463097599000  "
      ]
     },
     "execution_count": 92,
     "metadata": {},
     "output_type": "execute_result"
    }
   ],
   "source": [
    "# Checking the datasets\n",
    "weightlog.head()\n"
   ]
  },
  {
   "cell_type": "markdown",
   "id": "d588efcb",
   "metadata": {},
   "source": [
    "<a id='2'></a> \n",
    "## Accessing the data"
   ]
  },
  {
   "cell_type": "code",
   "execution_count": 93,
   "id": "8e41d6fe",
   "metadata": {},
   "outputs": [
    {
     "name": "stdout",
     "output_type": "stream",
     "text": [
      "<class 'pandas.core.frame.DataFrame'>\n",
      "RangeIndex: 67 entries, 0 to 66\n",
      "Data columns (total 8 columns):\n",
      " #   Column          Non-Null Count  Dtype  \n",
      "---  ------          --------------  -----  \n",
      " 0   Id              67 non-null     int64  \n",
      " 1   Date            67 non-null     object \n",
      " 2   WeightKg        67 non-null     float64\n",
      " 3   WeightPounds    67 non-null     float64\n",
      " 4   Fat             2 non-null      float64\n",
      " 5   BMI             67 non-null     float64\n",
      " 6   IsManualReport  67 non-null     bool   \n",
      " 7   LogId           67 non-null     int64  \n",
      "dtypes: bool(1), float64(4), int64(2), object(1)\n",
      "memory usage: 3.9+ KB\n"
     ]
    }
   ],
   "source": [
    "weightlog.info()"
   ]
  },
  {
   "cell_type": "code",
   "execution_count": 94,
   "id": "eff282ee",
   "metadata": {},
   "outputs": [
    {
     "name": "stdout",
     "output_type": "stream",
     "text": [
      "<class 'pandas.core.frame.DataFrame'>\n",
      "RangeIndex: 2483658 entries, 0 to 2483657\n",
      "Data columns (total 3 columns):\n",
      " #   Column  Dtype \n",
      "---  ------  ----- \n",
      " 0   Id      int64 \n",
      " 1   Time    object\n",
      " 2   Value   int64 \n",
      "dtypes: int64(2), object(1)\n",
      "memory usage: 56.8+ MB\n"
     ]
    }
   ],
   "source": [
    "heartrates.info()"
   ]
  },
  {
   "cell_type": "code",
   "execution_count": 95,
   "id": "e52a516c",
   "metadata": {},
   "outputs": [
    {
     "data": {
      "text/html": [
       "<div>\n",
       "<style scoped>\n",
       "    .dataframe tbody tr th:only-of-type {\n",
       "        vertical-align: middle;\n",
       "    }\n",
       "\n",
       "    .dataframe tbody tr th {\n",
       "        vertical-align: top;\n",
       "    }\n",
       "\n",
       "    .dataframe thead th {\n",
       "        text-align: right;\n",
       "    }\n",
       "</style>\n",
       "<table border=\"1\" class=\"dataframe\">\n",
       "  <thead>\n",
       "    <tr style=\"text-align: right;\">\n",
       "      <th></th>\n",
       "      <th>Id</th>\n",
       "      <th>Value</th>\n",
       "    </tr>\n",
       "  </thead>\n",
       "  <tbody>\n",
       "    <tr>\n",
       "      <th>count</th>\n",
       "      <td>2.483658e+06</td>\n",
       "      <td>2.483658e+06</td>\n",
       "    </tr>\n",
       "    <tr>\n",
       "      <th>mean</th>\n",
       "      <td>5.513765e+09</td>\n",
       "      <td>7.732842e+01</td>\n",
       "    </tr>\n",
       "    <tr>\n",
       "      <th>std</th>\n",
       "      <td>1.950224e+09</td>\n",
       "      <td>1.940450e+01</td>\n",
       "    </tr>\n",
       "    <tr>\n",
       "      <th>min</th>\n",
       "      <td>2.022484e+09</td>\n",
       "      <td>3.600000e+01</td>\n",
       "    </tr>\n",
       "    <tr>\n",
       "      <th>25%</th>\n",
       "      <td>4.388162e+09</td>\n",
       "      <td>6.300000e+01</td>\n",
       "    </tr>\n",
       "    <tr>\n",
       "      <th>50%</th>\n",
       "      <td>5.553957e+09</td>\n",
       "      <td>7.300000e+01</td>\n",
       "    </tr>\n",
       "    <tr>\n",
       "      <th>75%</th>\n",
       "      <td>6.962181e+09</td>\n",
       "      <td>8.800000e+01</td>\n",
       "    </tr>\n",
       "    <tr>\n",
       "      <th>max</th>\n",
       "      <td>8.877689e+09</td>\n",
       "      <td>2.030000e+02</td>\n",
       "    </tr>\n",
       "  </tbody>\n",
       "</table>\n",
       "</div>"
      ],
      "text/plain": [
       "                 Id         Value\n",
       "count  2.483658e+06  2.483658e+06\n",
       "mean   5.513765e+09  7.732842e+01\n",
       "std    1.950224e+09  1.940450e+01\n",
       "min    2.022484e+09  3.600000e+01\n",
       "25%    4.388162e+09  6.300000e+01\n",
       "50%    5.553957e+09  7.300000e+01\n",
       "75%    6.962181e+09  8.800000e+01\n",
       "max    8.877689e+09  2.030000e+02"
      ]
     },
     "execution_count": 95,
     "metadata": {},
     "output_type": "execute_result"
    }
   ],
   "source": [
    "heartrates.describe()"
   ]
  },
  {
   "cell_type": "code",
   "execution_count": 96,
   "id": "7227cdb1",
   "metadata": {},
   "outputs": [
    {
     "name": "stdout",
     "output_type": "stream",
     "text": [
      "<class 'pandas.core.frame.DataFrame'>\n",
      "RangeIndex: 940 entries, 0 to 939\n",
      "Data columns (total 15 columns):\n",
      " #   Column                    Non-Null Count  Dtype  \n",
      "---  ------                    --------------  -----  \n",
      " 0   Id                        940 non-null    int64  \n",
      " 1   ActivityDate              940 non-null    object \n",
      " 2   TotalSteps                940 non-null    int64  \n",
      " 3   TotalDistance             940 non-null    float64\n",
      " 4   TrackerDistance           940 non-null    float64\n",
      " 5   LoggedActivitiesDistance  940 non-null    float64\n",
      " 6   VeryActiveDistance        940 non-null    float64\n",
      " 7   ModeratelyActiveDistance  940 non-null    float64\n",
      " 8   LightActiveDistance       940 non-null    float64\n",
      " 9   SedentaryActiveDistance   940 non-null    float64\n",
      " 10  VeryActiveMinutes         940 non-null    int64  \n",
      " 11  FairlyActiveMinutes       940 non-null    int64  \n",
      " 12  LightlyActiveMinutes      940 non-null    int64  \n",
      " 13  SedentaryMinutes          940 non-null    int64  \n",
      " 14  Calories                  940 non-null    int64  \n",
      "dtypes: float64(7), int64(7), object(1)\n",
      "memory usage: 110.3+ KB\n"
     ]
    }
   ],
   "source": [
    "dailyactivities.info()"
   ]
  },
  {
   "cell_type": "code",
   "execution_count": 97,
   "id": "28441667",
   "metadata": {},
   "outputs": [
    {
     "name": "stdout",
     "output_type": "stream",
     "text": [
      "<class 'pandas.core.frame.DataFrame'>\n",
      "RangeIndex: 940 entries, 0 to 939\n",
      "Data columns (total 10 columns):\n",
      " #   Column                    Non-Null Count  Dtype  \n",
      "---  ------                    --------------  -----  \n",
      " 0   Id                        940 non-null    int64  \n",
      " 1   ActivityDay               940 non-null    object \n",
      " 2   SedentaryMinutes          940 non-null    int64  \n",
      " 3   LightlyActiveMinutes      940 non-null    int64  \n",
      " 4   FairlyActiveMinutes       940 non-null    int64  \n",
      " 5   VeryActiveMinutes         940 non-null    int64  \n",
      " 6   SedentaryActiveDistance   940 non-null    float64\n",
      " 7   LightActiveDistance       940 non-null    float64\n",
      " 8   ModeratelyActiveDistance  940 non-null    float64\n",
      " 9   VeryActiveDistance        940 non-null    float64\n",
      "dtypes: float64(4), int64(5), object(1)\n",
      "memory usage: 73.6+ KB\n"
     ]
    }
   ],
   "source": [
    "dailyintensity.info()"
   ]
  },
  {
   "cell_type": "code",
   "execution_count": 98,
   "id": "adc87658",
   "metadata": {},
   "outputs": [
    {
     "data": {
      "text/plain": [
       "Id                          0\n",
       "ActivityDate                0\n",
       "TotalSteps                  0\n",
       "TotalDistance               0\n",
       "TrackerDistance             0\n",
       "LoggedActivitiesDistance    0\n",
       "VeryActiveDistance          0\n",
       "ModeratelyActiveDistance    0\n",
       "LightActiveDistance         0\n",
       "SedentaryActiveDistance     0\n",
       "VeryActiveMinutes           0\n",
       "FairlyActiveMinutes         0\n",
       "LightlyActiveMinutes        0\n",
       "SedentaryMinutes            0\n",
       "Calories                    0\n",
       "dtype: int64"
      ]
     },
     "execution_count": 98,
     "metadata": {},
     "output_type": "execute_result"
    }
   ],
   "source": [
    "# Checking for null values \n",
    "dailyactivities.isnull().sum()"
   ]
  },
  {
   "cell_type": "code",
   "execution_count": 99,
   "id": "5e2a0467",
   "metadata": {},
   "outputs": [
    {
     "data": {
      "text/plain": [
       "Id                          0\n",
       "ActivityDay                 0\n",
       "SedentaryMinutes            0\n",
       "LightlyActiveMinutes        0\n",
       "FairlyActiveMinutes         0\n",
       "VeryActiveMinutes           0\n",
       "SedentaryActiveDistance     0\n",
       "LightActiveDistance         0\n",
       "ModeratelyActiveDistance    0\n",
       "VeryActiveDistance          0\n",
       "dtype: int64"
      ]
     },
     "execution_count": 99,
     "metadata": {},
     "output_type": "execute_result"
    }
   ],
   "source": [
    "dailyintensity.isnull().sum()"
   ]
  },
  {
   "cell_type": "code",
   "execution_count": 100,
   "id": "8b4376ed",
   "metadata": {},
   "outputs": [
    {
     "data": {
      "text/plain": [
       "Id                    0\n",
       "SleepDay              0\n",
       "TotalSleepRecords     0\n",
       "TotalMinutesAsleep    0\n",
       "TotalTimeInBed        0\n",
       "dtype: int64"
      ]
     },
     "execution_count": 100,
     "metadata": {},
     "output_type": "execute_result"
    }
   ],
   "source": [
    "sleepday.isnull().sum()"
   ]
  },
  {
   "cell_type": "code",
   "execution_count": 101,
   "id": "5bfc6da8",
   "metadata": {},
   "outputs": [
    {
     "data": {
      "text/plain": [
       "4      4/17/2016 12:00:00 AM\n",
       "68     4/15/2016 12:00:00 AM\n",
       "237    4/21/2016 12:00:00 AM\n",
       "335    5/11/2016 12:00:00 AM\n",
       "191     5/9/2016 12:00:00 AM\n",
       "299     5/6/2016 12:00:00 AM\n",
       "152    4/24/2016 12:00:00 AM\n",
       "99     4/30/2016 12:00:00 AM\n",
       "81     4/12/2016 12:00:00 AM\n",
       "134     5/2/2016 12:00:00 AM\n",
       "382    4/27/2016 12:00:00 AM\n",
       "114     5/6/2016 12:00:00 AM\n",
       "38     4/13/2016 12:00:00 AM\n",
       "390     5/5/2016 12:00:00 AM\n",
       "251     5/5/2016 12:00:00 AM\n",
       "158     5/2/2016 12:00:00 AM\n",
       "60      5/8/2016 12:00:00 AM\n",
       "28      5/8/2016 12:00:00 AM\n",
       "235    4/19/2016 12:00:00 AM\n",
       "89     4/20/2016 12:00:00 AM\n",
       "Name: SleepDay, dtype: object"
      ]
     },
     "execution_count": 101,
     "metadata": {},
     "output_type": "execute_result"
    }
   ],
   "source": [
    "# Seems the SleepDay column has a constant time so the time will be removed since it wont be useful\n",
    "sleepday.SleepDay.sample(20)"
   ]
  },
  {
   "cell_type": "markdown",
   "id": "9b2dc41a",
   "metadata": {},
   "source": [
    "<a id='3'></a> \n",
    "### Observation\n",
    "Due to accessing the data in both the spreadsheet program and the jupyter notebook the following were observed;\n",
    "- Remove the time in the SleepDay column\n",
    "- Rename the SleepDay column to something more relevant\n",
    "- Create a new column called 'Timeusedtogetup' in the sleepday dataset\n",
    "- Merge the datasets that require merging"
   ]
  },
  {
   "cell_type": "markdown",
   "id": "62c9930c",
   "metadata": {},
   "source": [
    "<a id='4'></a> \n",
    "## Data Cleaning"
   ]
  },
  {
   "cell_type": "markdown",
   "id": "386315bc",
   "metadata": {},
   "source": [
    "#### Removing the time part in the SleepDay column"
   ]
  },
  {
   "cell_type": "code",
   "execution_count": 102,
   "id": "c7ea4aac",
   "metadata": {},
   "outputs": [],
   "source": [
    "# The use of string slicing to remove the time in the SleepDay column\n",
    "sleepday.SleepDay = sleepday.SleepDay.str[:9]"
   ]
  },
  {
   "cell_type": "code",
   "execution_count": 233,
   "id": "788895dc",
   "metadata": {},
   "outputs": [
    {
     "data": {
      "text/html": [
       "<div>\n",
       "<style scoped>\n",
       "    .dataframe tbody tr th:only-of-type {\n",
       "        vertical-align: middle;\n",
       "    }\n",
       "\n",
       "    .dataframe tbody tr th {\n",
       "        vertical-align: top;\n",
       "    }\n",
       "\n",
       "    .dataframe thead th {\n",
       "        text-align: right;\n",
       "    }\n",
       "</style>\n",
       "<table border=\"1\" class=\"dataframe\">\n",
       "  <thead>\n",
       "    <tr style=\"text-align: right;\">\n",
       "      <th></th>\n",
       "      <th>Id</th>\n",
       "      <th>Date</th>\n",
       "      <th>TotalSleepRecords</th>\n",
       "      <th>TotalMinutesAsleep</th>\n",
       "      <th>TotalTimeInBed</th>\n",
       "      <th>TimeUsedToGetUp</th>\n",
       "    </tr>\n",
       "  </thead>\n",
       "  <tbody>\n",
       "    <tr>\n",
       "      <th>0</th>\n",
       "      <td>1503960366</td>\n",
       "      <td>4/12/2016</td>\n",
       "      <td>1</td>\n",
       "      <td>327</td>\n",
       "      <td>346</td>\n",
       "      <td>19</td>\n",
       "    </tr>\n",
       "    <tr>\n",
       "      <th>1</th>\n",
       "      <td>1503960366</td>\n",
       "      <td>4/13/2016</td>\n",
       "      <td>2</td>\n",
       "      <td>384</td>\n",
       "      <td>407</td>\n",
       "      <td>23</td>\n",
       "    </tr>\n",
       "    <tr>\n",
       "      <th>2</th>\n",
       "      <td>1503960366</td>\n",
       "      <td>4/15/2016</td>\n",
       "      <td>1</td>\n",
       "      <td>412</td>\n",
       "      <td>442</td>\n",
       "      <td>30</td>\n",
       "    </tr>\n",
       "    <tr>\n",
       "      <th>3</th>\n",
       "      <td>1503960366</td>\n",
       "      <td>4/16/2016</td>\n",
       "      <td>2</td>\n",
       "      <td>340</td>\n",
       "      <td>367</td>\n",
       "      <td>27</td>\n",
       "    </tr>\n",
       "    <tr>\n",
       "      <th>4</th>\n",
       "      <td>1503960366</td>\n",
       "      <td>4/17/2016</td>\n",
       "      <td>1</td>\n",
       "      <td>700</td>\n",
       "      <td>712</td>\n",
       "      <td>12</td>\n",
       "    </tr>\n",
       "  </tbody>\n",
       "</table>\n",
       "</div>"
      ],
      "text/plain": [
       "           Id       Date  TotalSleepRecords  TotalMinutesAsleep  \\\n",
       "0  1503960366  4/12/2016                  1                 327   \n",
       "1  1503960366  4/13/2016                  2                 384   \n",
       "2  1503960366  4/15/2016                  1                 412   \n",
       "3  1503960366  4/16/2016                  2                 340   \n",
       "4  1503960366  4/17/2016                  1                 700   \n",
       "\n",
       "   TotalTimeInBed  TimeUsedToGetUp  \n",
       "0             346               19  \n",
       "1             407               23  \n",
       "2             442               30  \n",
       "3             367               27  \n",
       "4             712               12  "
      ]
     },
     "execution_count": 233,
     "metadata": {},
     "output_type": "execute_result"
    }
   ],
   "source": [
    "sleepday.head()"
   ]
  },
  {
   "cell_type": "markdown",
   "id": "9cc1b725",
   "metadata": {},
   "source": [
    "#### Renaming the SleepDay column"
   ]
  },
  {
   "cell_type": "code",
   "execution_count": 104,
   "id": "34af03d6",
   "metadata": {},
   "outputs": [],
   "source": [
    "# Renaming the column date \n",
    "sleepday = sleepday.rename(columns={'SleepDay':'Date'})"
   ]
  },
  {
   "cell_type": "code",
   "execution_count": 105,
   "id": "e9aecb53",
   "metadata": {},
   "outputs": [
    {
     "data": {
      "text/html": [
       "<div>\n",
       "<style scoped>\n",
       "    .dataframe tbody tr th:only-of-type {\n",
       "        vertical-align: middle;\n",
       "    }\n",
       "\n",
       "    .dataframe tbody tr th {\n",
       "        vertical-align: top;\n",
       "    }\n",
       "\n",
       "    .dataframe thead th {\n",
       "        text-align: right;\n",
       "    }\n",
       "</style>\n",
       "<table border=\"1\" class=\"dataframe\">\n",
       "  <thead>\n",
       "    <tr style=\"text-align: right;\">\n",
       "      <th></th>\n",
       "      <th>Id</th>\n",
       "      <th>Date</th>\n",
       "      <th>TotalSleepRecords</th>\n",
       "      <th>TotalMinutesAsleep</th>\n",
       "      <th>TotalTimeInBed</th>\n",
       "    </tr>\n",
       "  </thead>\n",
       "  <tbody>\n",
       "    <tr>\n",
       "      <th>0</th>\n",
       "      <td>1503960366</td>\n",
       "      <td>4/12/2016</td>\n",
       "      <td>1</td>\n",
       "      <td>327</td>\n",
       "      <td>346</td>\n",
       "    </tr>\n",
       "    <tr>\n",
       "      <th>1</th>\n",
       "      <td>1503960366</td>\n",
       "      <td>4/13/2016</td>\n",
       "      <td>2</td>\n",
       "      <td>384</td>\n",
       "      <td>407</td>\n",
       "    </tr>\n",
       "    <tr>\n",
       "      <th>2</th>\n",
       "      <td>1503960366</td>\n",
       "      <td>4/15/2016</td>\n",
       "      <td>1</td>\n",
       "      <td>412</td>\n",
       "      <td>442</td>\n",
       "    </tr>\n",
       "    <tr>\n",
       "      <th>3</th>\n",
       "      <td>1503960366</td>\n",
       "      <td>4/16/2016</td>\n",
       "      <td>2</td>\n",
       "      <td>340</td>\n",
       "      <td>367</td>\n",
       "    </tr>\n",
       "    <tr>\n",
       "      <th>4</th>\n",
       "      <td>1503960366</td>\n",
       "      <td>4/17/2016</td>\n",
       "      <td>1</td>\n",
       "      <td>700</td>\n",
       "      <td>712</td>\n",
       "    </tr>\n",
       "  </tbody>\n",
       "</table>\n",
       "</div>"
      ],
      "text/plain": [
       "           Id       Date  TotalSleepRecords  TotalMinutesAsleep  \\\n",
       "0  1503960366  4/12/2016                  1                 327   \n",
       "1  1503960366  4/13/2016                  2                 384   \n",
       "2  1503960366  4/15/2016                  1                 412   \n",
       "3  1503960366  4/16/2016                  2                 340   \n",
       "4  1503960366  4/17/2016                  1                 700   \n",
       "\n",
       "   TotalTimeInBed  \n",
       "0             346  \n",
       "1             407  \n",
       "2             442  \n",
       "3             367  \n",
       "4             712  "
      ]
     },
     "execution_count": 105,
     "metadata": {},
     "output_type": "execute_result"
    }
   ],
   "source": [
    "sleepday.head()"
   ]
  },
  {
   "cell_type": "markdown",
   "id": "cad809c5",
   "metadata": {},
   "source": [
    "#### Deriving the time used to get up from 2 pre-existing columns"
   ]
  },
  {
   "cell_type": "code",
   "execution_count": 106,
   "id": "2cd8cf25",
   "metadata": {},
   "outputs": [],
   "source": [
    "sleepday['TimeUsedToGetUp'] = sleepday['TotalTimeInBed'] - sleepday['TotalMinutesAsleep']"
   ]
  },
  {
   "cell_type": "code",
   "execution_count": 107,
   "id": "7a69a844",
   "metadata": {},
   "outputs": [
    {
     "data": {
      "text/html": [
       "<div>\n",
       "<style scoped>\n",
       "    .dataframe tbody tr th:only-of-type {\n",
       "        vertical-align: middle;\n",
       "    }\n",
       "\n",
       "    .dataframe tbody tr th {\n",
       "        vertical-align: top;\n",
       "    }\n",
       "\n",
       "    .dataframe thead th {\n",
       "        text-align: right;\n",
       "    }\n",
       "</style>\n",
       "<table border=\"1\" class=\"dataframe\">\n",
       "  <thead>\n",
       "    <tr style=\"text-align: right;\">\n",
       "      <th></th>\n",
       "      <th>Id</th>\n",
       "      <th>Date</th>\n",
       "      <th>TotalSleepRecords</th>\n",
       "      <th>TotalMinutesAsleep</th>\n",
       "      <th>TotalTimeInBed</th>\n",
       "      <th>TimeUsedToGetUp</th>\n",
       "    </tr>\n",
       "  </thead>\n",
       "  <tbody>\n",
       "    <tr>\n",
       "      <th>0</th>\n",
       "      <td>1503960366</td>\n",
       "      <td>4/12/2016</td>\n",
       "      <td>1</td>\n",
       "      <td>327</td>\n",
       "      <td>346</td>\n",
       "      <td>19</td>\n",
       "    </tr>\n",
       "    <tr>\n",
       "      <th>1</th>\n",
       "      <td>1503960366</td>\n",
       "      <td>4/13/2016</td>\n",
       "      <td>2</td>\n",
       "      <td>384</td>\n",
       "      <td>407</td>\n",
       "      <td>23</td>\n",
       "    </tr>\n",
       "    <tr>\n",
       "      <th>2</th>\n",
       "      <td>1503960366</td>\n",
       "      <td>4/15/2016</td>\n",
       "      <td>1</td>\n",
       "      <td>412</td>\n",
       "      <td>442</td>\n",
       "      <td>30</td>\n",
       "    </tr>\n",
       "    <tr>\n",
       "      <th>3</th>\n",
       "      <td>1503960366</td>\n",
       "      <td>4/16/2016</td>\n",
       "      <td>2</td>\n",
       "      <td>340</td>\n",
       "      <td>367</td>\n",
       "      <td>27</td>\n",
       "    </tr>\n",
       "    <tr>\n",
       "      <th>4</th>\n",
       "      <td>1503960366</td>\n",
       "      <td>4/17/2016</td>\n",
       "      <td>1</td>\n",
       "      <td>700</td>\n",
       "      <td>712</td>\n",
       "      <td>12</td>\n",
       "    </tr>\n",
       "  </tbody>\n",
       "</table>\n",
       "</div>"
      ],
      "text/plain": [
       "           Id       Date  TotalSleepRecords  TotalMinutesAsleep  \\\n",
       "0  1503960366  4/12/2016                  1                 327   \n",
       "1  1503960366  4/13/2016                  2                 384   \n",
       "2  1503960366  4/15/2016                  1                 412   \n",
       "3  1503960366  4/16/2016                  2                 340   \n",
       "4  1503960366  4/17/2016                  1                 700   \n",
       "\n",
       "   TotalTimeInBed  TimeUsedToGetUp  \n",
       "0             346               19  \n",
       "1             407               23  \n",
       "2             442               30  \n",
       "3             367               27  \n",
       "4             712               12  "
      ]
     },
     "execution_count": 107,
     "metadata": {},
     "output_type": "execute_result"
    }
   ],
   "source": [
    "sleepday.head()"
   ]
  },
  {
   "cell_type": "markdown",
   "id": "22b63593",
   "metadata": {},
   "source": [
    "<a id='5'></a> \n",
    "## Exploratory Data Analysis"
   ]
  },
  {
   "cell_type": "markdown",
   "id": "03ced8d6",
   "metadata": {},
   "source": [
    "<a id='6'></a> \n",
    "#### Do users get off their beds quickly?"
   ]
  },
  {
   "cell_type": "code",
   "execution_count": 108,
   "id": "06ea6f1c",
   "metadata": {},
   "outputs": [
    {
     "data": {
      "image/png": "[encoded data removed]",
      "text/plain": [
       "<Figure size 1080x576 with 1 Axes>"
      ]
     },
     "metadata": {
      "needs_background": "light"
     },
     "output_type": "display_data"
    }
   ],
   "source": [
    "plt.figure(figsize=[15,8])\n",
    "bins=np.arange(0,sleepday['TimeUsedToGetUp'].max()+3,3)\n",
    "ticks = [0,10,20,30,40,50,60,70,80,90,100,120,140,160,180,200,220,240,260,280,300,320]\n",
    "labels=['{}'.format(v) for v in ticks]\n",
    "\n",
    "plt.hist(data=sleepday,x='TimeUsedToGetUp',bins=bins,rwidth=0.8)\n",
    "plt.title('Time Used To Get Up',y=1 ,fontweight = 'bold')\n",
    "plt.xlabel('Time Used To Get Up',fontweight = 'bold')\n",
    "plt.ylabel('Frequency',fontweight = 'bold')\n",
    "plt.xticks(ticks,labels);"
   ]
  },
  {
   "cell_type": "markdown",
   "id": "a07e6842",
   "metadata": {},
   "source": [
    "The distribution is right skewed hinting that the users are generally fast in getting off their beds "
   ]
  },
  {
   "cell_type": "markdown",
   "id": "8f9ccbfc",
   "metadata": {},
   "source": [
    "<a id='7'></a> \n",
    "#### What Time of the Day are Users the most active?"
   ]
  },
  {
   "cell_type": "code",
   "execution_count": 109,
   "id": "b9ae4174",
   "metadata": {},
   "outputs": [],
   "source": [
    "hours = pd.to_datetime(heartrates['Time']).dt.strftime('%H')\n",
    "heartrates['Hour']=hours\n"
   ]
  },
  {
   "cell_type": "code",
   "execution_count": 136,
   "id": "973e8af9",
   "metadata": {},
   "outputs": [
    {
     "data": {
      "text/plain": [
       "Hour\n",
       "00    66.723642\n",
       "01    65.642436\n",
       "02    63.566506\n",
       "03    61.143456\n",
       "04    60.231779\n",
       "05    63.178442\n",
       "06    72.910595\n",
       "07    75.196996\n",
       "08    76.951884\n",
       "09    80.703932\n",
       "10    80.116789\n",
       "11    79.147566\n",
       "12    83.566121\n",
       "13    81.041155\n",
       "14    82.090328\n",
       "15    79.366156\n",
       "16    83.914978\n",
       "17    84.810547\n",
       "18    86.128509\n",
       "19    82.797117\n",
       "20    78.967916\n",
       "21    75.127449\n",
       "22    72.228438\n",
       "23    69.272406\n",
       "Name: Value, dtype: float64"
      ]
     },
     "execution_count": 136,
     "metadata": {},
     "output_type": "execute_result"
    }
   ],
   "source": [
    "hourvsvalue=heartrates.groupby('Hour').Value.mean()\n",
    "hourvsvalue\n"
   ]
  },
  {
   "cell_type": "code",
   "execution_count": 133,
   "id": "ee91faf3",
   "metadata": {},
   "outputs": [],
   "source": [
    "heartrates = heartrates.sort_values('Hour')"
   ]
  },
  {
   "cell_type": "code",
   "execution_count": 235,
   "id": "ab36f4d2",
   "metadata": {},
   "outputs": [
    {
     "data": {
      "text/plain": [
       "Text(0.5, 1.0, 'Daily Activity')"
      ]
     },
     "execution_count": 235,
     "metadata": {},
     "output_type": "execute_result"
    },
    {
     "data": {
      "image/png": "[encoded data removed]",
      "text/plain": [
       "<Figure size 432x288 with 1 Axes>"
      ]
     },
     "metadata": {
      "needs_background": "light"
     },
     "output_type": "display_data"
    }
   ],
   "source": [
    "# A lineplot to show the heartrate of user in relation to the time of the day\n",
    "sb.lineplot(data=heartrates,x='Hour',y='Value')\n",
    "plt.title('Daily Activity')"
   ]
  },
  {
   "cell_type": "markdown",
   "id": "cdb558fa",
   "metadata": {},
   "source": [
    "From the plot above we can see users are the most active in the afternoon with their activity peaking around 18:00 and the least active around 04:00"
   ]
  },
  {
   "cell_type": "markdown",
   "id": "cfc899eb",
   "metadata": {},
   "source": [
    "<a id='8'></a> \n",
    "#### What is the relationship between the calories and total steps?"
   ]
  },
  {
   "cell_type": "code",
   "execution_count": 239,
   "id": "3d72aa91",
   "metadata": {},
   "outputs": [
    {
     "data": {
      "text/plain": [
       "Text(0.5, 1.0, 'Relationship between Calories and Total Steps')"
      ]
     },
     "execution_count": 239,
     "metadata": {},
     "output_type": "execute_result"
    },
    {
     "data": {
      "image/png": "[encoded data removed]",
      "text/plain": [
       "<Figure size 432x288 with 1 Axes>"
      ]
     },
     "metadata": {
      "needs_background": "light"
     },
     "output_type": "display_data"
    }
   ],
   "source": [
    "sb.scatterplot(data=dailyactivities,y='Calories',x='TotalSteps',hue='VeryActiveMinutes')\n",
    "plt.title('Relationship between Calories and Total Steps',fontweight = 'bold')"
   ]
  },
  {
   "cell_type": "markdown",
   "id": "de9e273b",
   "metadata": {},
   "source": [
    "The relationship between the total steps and calories is a positive correlation hence when the steps increase the calories lost increases but it should also be noted that to lose a high amount of calories (> 4000 calories) the user must have at least 120 very active minutes."
   ]
  },
  {
   "cell_type": "markdown",
   "id": "2a169709",
   "metadata": {},
   "source": [
    "Hence, the calories can be used as a measure of activity"
   ]
  },
  {
   "cell_type": "markdown",
   "id": "1a868a31",
   "metadata": {},
   "source": [
    "<a id='9'></a> \n",
    "#### Which day of the week are users the most active?"
   ]
  },
  {
   "cell_type": "code",
   "execution_count": 138,
   "id": "32923fce",
   "metadata": {},
   "outputs": [
    {
     "data": {
      "text/html": [
       "<div>\n",
       "<style scoped>\n",
       "    .dataframe tbody tr th:only-of-type {\n",
       "        vertical-align: middle;\n",
       "    }\n",
       "\n",
       "    .dataframe tbody tr th {\n",
       "        vertical-align: top;\n",
       "    }\n",
       "\n",
       "    .dataframe thead th {\n",
       "        text-align: right;\n",
       "    }\n",
       "</style>\n",
       "<table border=\"1\" class=\"dataframe\">\n",
       "  <thead>\n",
       "    <tr style=\"text-align: right;\">\n",
       "      <th></th>\n",
       "      <th>Id</th>\n",
       "      <th>ActivityDay</th>\n",
       "      <th>Calories</th>\n",
       "      <th>day</th>\n",
       "    </tr>\n",
       "  </thead>\n",
       "  <tbody>\n",
       "    <tr>\n",
       "      <th>0</th>\n",
       "      <td>1503960366</td>\n",
       "      <td>4/12/2016</td>\n",
       "      <td>1985</td>\n",
       "      <td>Tuesday</td>\n",
       "    </tr>\n",
       "    <tr>\n",
       "      <th>1</th>\n",
       "      <td>1503960366</td>\n",
       "      <td>4/13/2016</td>\n",
       "      <td>1797</td>\n",
       "      <td>Wednesday</td>\n",
       "    </tr>\n",
       "    <tr>\n",
       "      <th>2</th>\n",
       "      <td>1503960366</td>\n",
       "      <td>4/14/2016</td>\n",
       "      <td>1776</td>\n",
       "      <td>Thursday</td>\n",
       "    </tr>\n",
       "    <tr>\n",
       "      <th>3</th>\n",
       "      <td>1503960366</td>\n",
       "      <td>4/15/2016</td>\n",
       "      <td>1745</td>\n",
       "      <td>Friday</td>\n",
       "    </tr>\n",
       "    <tr>\n",
       "      <th>4</th>\n",
       "      <td>1503960366</td>\n",
       "      <td>4/16/2016</td>\n",
       "      <td>1863</td>\n",
       "      <td>Saturday</td>\n",
       "    </tr>\n",
       "  </tbody>\n",
       "</table>\n",
       "</div>"
      ],
      "text/plain": [
       "           Id ActivityDay  Calories        day\n",
       "0  1503960366   4/12/2016      1985    Tuesday\n",
       "1  1503960366   4/13/2016      1797  Wednesday\n",
       "2  1503960366   4/14/2016      1776   Thursday\n",
       "3  1503960366   4/15/2016      1745     Friday\n",
       "4  1503960366   4/16/2016      1863   Saturday"
      ]
     },
     "execution_count": 138,
     "metadata": {},
     "output_type": "execute_result"
    }
   ],
   "source": [
    "day = pd.to_datetime(dailycalories.ActivityDay).dt.day_name()\n",
    "dailycalories['day'] = day\n",
    "dailycalories.head()"
   ]
  },
  {
   "cell_type": "code",
   "execution_count": 237,
   "id": "71a55eb6",
   "metadata": {},
   "outputs": [
    {
     "data": {
      "text/plain": [
       "Text(0.5, 1.0, 'Daily Calories Count')"
      ]
     },
     "execution_count": 237,
     "metadata": {},
     "output_type": "execute_result"
    },
    {
     "data": {
      "image/png": "[encoded data removed]",
      "text/plain": [
       "<Figure size 432x288 with 1 Axes>"
      ]
     },
     "metadata": {
      "needs_background": "light"
     },
     "output_type": "display_data"
    }
   ],
   "source": [
    "base_color=sb.color_palette()[3]\n",
    "orders = dailycalories.day.value_counts().index\n",
    "sb.countplot(y='day',data = dailycalories,color = base_color ,order = orders)\n",
    "plt.title('Daily Calories Count',fontweight = 'bold')"
   ]
  },
  {
   "cell_type": "markdown",
   "id": "5c5f3bd1",
   "metadata": {},
   "source": [
    "Tuesday is the most active day for users "
   ]
  },
  {
   "cell_type": "markdown",
   "id": "a0c55c69",
   "metadata": {},
   "source": [
    "<a id='10'></a> \n",
    "#### How do users spend their time?"
   ]
  },
  {
   "cell_type": "markdown",
   "id": "1ccb6390",
   "metadata": {},
   "source": [
    "since we don't have any demographic variables from our sample we want to determine the type of users with the data we have. We can classify the users by activity considering the daily amount of steps. We can categorize users as follows:\n",
    "\n",
    "   -  Sedentary - Less than 5000 steps a day.\n",
    "   - Lightly active - Between 5000 and 7499 steps a day.\n",
    "   - Fairly active - Between 7500 and 9999 steps a day.\n",
    "   - Very active - More than 10000 steps a day.\n",
    "   \n",
    "Classification has been made per the following article https://www.10000steps.org.au/articles/counting-steps/"
   ]
  },
  {
   "cell_type": "code",
   "execution_count": 202,
   "id": "fd2056dd",
   "metadata": {},
   "outputs": [
    {
     "data": {
      "text/plain": [
       "(15.820493214202166, 1.1130139975629088, 1.7366021081886969, 81.32989068004623)"
      ]
     },
     "execution_count": 202,
     "metadata": {},
     "output_type": "execute_result"
    }
   ],
   "source": [
    "dailyintensity['TotalActiveMinutes']=dailyintensity['LightlyActiveMinutes']+dailyintensity['FairlyActiveMinutes']+dailyintensity['VeryActiveMinutes']+dailyintensity['SedentaryMinutes']\n",
    "avg_total = dailyintensity['TotalActiveMinutes'].mean()\n",
    "percent_lightly =(dailyintensity['LightlyActiveMinutes'].mean()/avg_total)*100\n",
    "percent_fairly = (dailyintensity['FairlyActiveMinutes'].mean()/avg_total)*100\n",
    "percent_very = (dailyintensity['VeryActiveMinutes'].mean()/avg_total)*100\n",
    "percent_sedentary=(dailyintensity['SedentaryMinutes'].mean()/avg_total)*100\n",
    "percent_lightly, percent_fairly,percent_very,percent_sedentary"
   ]
  },
  {
   "cell_type": "code",
   "execution_count": 248,
   "id": "475f16c1",
   "metadata": {},
   "outputs": [
    {
     "data": {
      "image/png": "[encoded data removed]",
      "text/plain": [
       "<Figure size 432x288 with 1 Axes>"
      ]
     },
     "metadata": {},
     "output_type": "display_data"
    }
   ],
   "source": [
    "my_data = [15.820493214202166, 1.1130139975629088, 1.7366021081886969, 81.32989068004623]\n",
    "my_labels = 'Light Active', 'Fairly Active', 'Very Active','Sedentary'\n",
    "plt.pie(my_data, labels=my_labels,autopct='%1.0f%%',startangle = 90,\n",
    "        counterclock = False, wedgeprops = {'width' : 0.4});\n",
    "plt.title('Time Distribution',fontweight = 'bold')\n",
    "plt.axis('square')\n",
    "plt.show()\n"
   ]
  },
  {
   "cell_type": "markdown",
   "id": "3e02e574",
   "metadata": {},
   "source": [
    "Based on the donut chart,81% of the time Bellabeat users are sedentary (projected to take less than 5000 steps a day)while only 2% of the time Bellabeat users are very active(projected to take more than 10000 steps a day)"
   ]
  },
  {
   "cell_type": "markdown",
   "id": "adf6224f",
   "metadata": {},
   "source": [
    "<a id='11'></a> \n",
    "#### Which BMI class covers the most distance and steps?"
   ]
  },
  {
   "cell_type": "code",
   "execution_count": 226,
   "id": "3b4f10ed",
   "metadata": {},
   "outputs": [],
   "source": [
    "weightloginfo=weightlog[['Id','Date','BMI']]\n",
    "left = weightloginfo.set_index(['Id','Date'])\n",
    "right = dailyactivities.set_index(['Id','ActivityDate'])\n",
    "n=left.join(right)\n",
    "stepswithBMI=n.reset_index()[[\"Id\",\"ActivityDate\",\"BMI\",\"TotalDistance\"]].dropna(subset=['TotalDistance'])\n",
    "Healthy=stepswithBMI.loc[(stepswithBMI.BMI >= 18.5) & (stepswithBMI.BMI <= 24.9)].TotalDistance.mean()\n",
    "Overweight=stepswithBMI.loc[(stepswithBMI.BMI > 24.9) & (stepswithBMI.BMI <= 29.9)].TotalDistance.mean()\n",
    "Obesity=stepswithBMI.loc[(stepswithBMI.BMI > 30)].TotalDistance.mean()\n",
    "output=pd.DataFrame({'Healthy': [Healthy], 'Overweight': [Overweight],'Obesity':[Obesity]})\n",
    "output.to_csv(\"C:\\\\Users\\\\HP\\\\Downloads\\\\average_distance_with_BMI.csv\")\n"
   ]
  },
  {
   "cell_type": "code",
   "execution_count": 245,
   "id": "1c1c5c64",
   "metadata": {},
   "outputs": [
    {
     "data": {
      "text/plain": [
       "count    2076.000000\n",
       "mean       25.183868\n",
       "std         3.044828\n",
       "min        21.450001\n",
       "25%        23.959999\n",
       "50%        24.389999\n",
       "75%        25.559999\n",
       "max        47.540001\n",
       "Name: BMI, dtype: float64"
      ]
     },
     "execution_count": 245,
     "metadata": {},
     "output_type": "execute_result"
    }
   ],
   "source": [
    "stepswithBMI.BMI.describe()"
   ]
  },
  {
   "attachments": {
    "image.png": {
     "image/png": "[encoded data removed]"
    }
   },
   "cell_type": "markdown",
   "id": "c98f782f",
   "metadata": {},
   "source": [
    "![image.png](attachment:image.png)"
   ]
  },
  {
   "cell_type": "code",
   "execution_count": 229,
   "id": "c6ff4814",
   "metadata": {},
   "outputs": [],
   "source": [
    "weightloginfo=weightlog[['Id','Date','BMI']]\n",
    "left = weightloginfo.set_index(['Id','Date'])\n",
    "right = dailyactivities.set_index(['Id','ActivityDate'])\n",
    "n=left.join(right)\n",
    "stepswithBMI=n.reset_index()[[\"Id\",\"ActivityDate\",\"BMI\",\"TotalSteps\"]].dropna(subset=['TotalSteps'])\n",
    "Healthy=stepswithBMI.loc[(stepswithBMI.BMI >= 18.5) & (stepswithBMI.BMI <= 24.9)].TotalSteps.mean()\n",
    "Overweight=stepswithBMI.loc[(stepswithBMI.BMI > 24.9) & (stepswithBMI.BMI <= 29.9)].TotalSteps.mean()\n",
    "Obesity=stepswithBMI.loc[(stepswithBMI.BMI > 30)].TotalSteps.mean()\n",
    "result=pd.DataFrame({'Healthy': [Healthy], 'Overweight': [Overweight],'Obesity':[Obesity]})\n",
    "result.to_csv(\"C:\\\\Users\\\\HP\\\\Downloads\\\\average_steps_with_BMI.csv\")\n"
   ]
  },
  {
   "attachments": {
    "image-2.png": {
     "image/png": "[encoded data removed]"
    }
   },
   "cell_type": "markdown",
   "id": "a05226ac",
   "metadata": {},
   "source": [
    "![image-2.png](attachment:image-2.png)"
   ]
  },
  {
   "cell_type": "markdown",
   "id": "82be4768",
   "metadata": {},
   "source": [
    "The above visualisation shows the BMI class against the average steps and shows that the users who were overweight have taken the most steps(~14000 steps) but the ones who are obesed have taken by far the least steps(<2000 steps)as expected"
   ]
  },
  {
   "cell_type": "markdown",
   "id": "32634439",
   "metadata": {},
   "source": [
    "<a id='12'></a> \n",
    "## Insights for Marketing Strategy\n",
    "Following data driven decisions can be helpful for marketing team:\n",
    "\n",
    " - From the Time Used to Get Up viz, we can see that the users of Bellabeat products are active early in the morning as they dont spend too much time on the bed after waking up which is generally a good habit for proactiveness  So, we can convince the non-user that, to build up her good sleeping habit, Bellabeat's product will be good choice.\n",
    " - From the Daily Activity Viz, it can be observed that the heart rate of the user is maintained within the standard 60-100 bpm indicating the usefulness of Bellabeat products in maintaining heart rate and exercise.\n",
    " - It's a good trend to consume calories at week days same as weekend at Daily Calories Count graph. So, when a user will be so busy in her daily activities, bellabeat products help her to burn calories.\n",
    " - It can also be seen from the Relationship between Calories and Total Steps plot that the users with very active minutes( greater than 120 minutes) tend to derive the best results in terms of burnt calories from their Bellabeat products.\n",
    " - From the Activity Distribution viz, we can clearly see that a massive 81% of the time our users are projected to take less than 5000 steps a day which isn't ideal while only 2% of the time our users meet the recommended number of steps according to https://www.nbcnews.com/health/health-news/how-many-steps-day-should-you-take-study-finds-7-n1278853 which is quite substantial.\n",
    " - From https://www.cdc.gov/healthyweight/assessing/bmi/adult_bmi/index.html , we know that the ideal BMI range for an adult is 18.5-24.9. When BMI is between 25-29.9, that indicates overweight while the BMI greater than 30 indicates obesity. In our BMI vs Mean distance Viz and the BMI vs Mean Steps viz, we can clearly see that overweight women are more willing to lose their weight by walking more distance and taking more steps. So, women who are fatty, they can use Bellabeat products to be slim.\n"
   ]
  },
  {
   "cell_type": "markdown",
   "id": "b60c43da",
   "metadata": {},
   "source": [
    "<a id='13'></a>\n",
    "## Conclusion\n",
    "These are the recommended steps of action to take to improve the Bellabeat user experience:\n",
    "- Introduction of Target Steps\n",
    "- Daily notifications to remind users to take their targeted steps per day\n",
    "- Reward like coupons for exceeding a projected amount of steps per day\n",
    "- Step plans for attaining a specific calories burnt"
   ]
  }
 ],
 "metadata": {
  "kernelspec": {
   "display_name": "Python 3 (ipykernel)",
   "language": "python",
   "name": "python3"
  },
  "language_info": {
   "codemirror_mode": {
    "name": "ipython",
    "version": 3
   },
   "file_extension": ".py",
   "mimetype": "text/x-python",
   "name": "python",
   "nbconvert_exporter": "python",
   "pygments_lexer": "ipython3",
   "version": "3.9.12"
  }
 },
 "nbformat": 4,
 "nbformat_minor": 5
}
